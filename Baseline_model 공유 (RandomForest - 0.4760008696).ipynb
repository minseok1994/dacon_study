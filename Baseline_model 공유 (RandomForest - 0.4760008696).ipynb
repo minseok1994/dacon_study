{
 "cells": [
  {
   "cell_type": "markdown",
   "id": "2a68d7a3",
   "metadata": {},
   "source": [
    "# 데이터셋 설명\n",
    "\n",
    "- train.csv \n",
    "    - ID : 대구에서 발생한 교통사고의 고유 ID\n",
    "    - 2019년부터 2021년까지의 교통사고 데이터로 구성\n",
    "    - 해당 사고가 발생한 당시의 시공간 정보와 사고 관련 정보 포함 \n",
    "    - ECLO : 인명피해 심각도\n",
    "\n",
    "\n",
    "- test.csv\n",
    "    - ID : 대구에서 발생한 교통사고의 고유 ID\n",
    "    - 2022년도의 교통사고 데이터로 구성 \n",
    "    - 추론 시점에서 획득할 수 있는 정보로 구성"
   ]
  },
  {
   "cell_type": "markdown",
   "id": "c0bf20c0",
   "metadata": {},
   "source": [
    "# 문제 설명\n",
    "- train 데이터셋을 활용하여 학습하고, test 데이터셋의 `ECLO`(인명 피해 심각도)를 예측합니다."
   ]
  },
  {
   "cell_type": "markdown",
   "id": "f1ed3221",
   "metadata": {},
   "source": [
    "# Load dataset"
   ]
  },
  {
   "cell_type": "code",
   "execution_count": 1,
   "id": "6c4223f5",
   "metadata": {
    "ExecuteTime": {
     "end_time": "2023-11-16T03:55:59.828198Z",
     "start_time": "2023-11-16T03:55:59.297245Z"
    }
   },
   "outputs": [],
   "source": [
    "import numpy as np\n",
    "import pandas as pd\n",
    "import warnings\n",
    "warnings.filterwarnings('ignore')"
   ]
  },
  {
   "cell_type": "code",
   "execution_count": 2,
   "id": "693b6ebd",
   "metadata": {
    "ExecuteTime": {
     "end_time": "2023-11-16T03:56:00.040439Z",
     "start_time": "2023-11-16T03:55:59.829552Z"
    }
   },
   "outputs": [],
   "source": [
    "INPUT_PATH = './input/'\n",
    "\n",
    "train = pd.read_csv(f'{INPUT_PATH}train.csv')\n",
    "test = pd.read_csv(f'{INPUT_PATH}test.csv')\n",
    "ss = pd.read_csv(f'{INPUT_PATH}sample_submission.csv')"
   ]
  },
  {
   "cell_type": "markdown",
   "id": "5fdda059",
   "metadata": {},
   "source": [
    "# Data validation"
   ]
  },
  {
   "cell_type": "markdown",
   "id": "41104000",
   "metadata": {},
   "source": [
    "- 유효성 검증 함수 생성"
   ]
  },
  {
   "cell_type": "code",
   "execution_count": 3,
   "id": "c7bccec7",
   "metadata": {
    "ExecuteTime": {
     "end_time": "2023-11-16T03:56:00.055434Z",
     "start_time": "2023-11-16T03:56:00.042439Z"
    },
    "code_folding": [
     0
    ],
    "scrolled": true
   },
   "outputs": [],
   "source": [
    "def making_val_table(df):\n",
    "    '''입력받은 데이터셋의 유효성 검증을 위한 요약 테이블'''\n",
    "    # dtypes \n",
    "    df_dtypes = df.dtypes\n",
    "    \n",
    "    # nunique\n",
    "    df_nunique = df.nunique()\n",
    "    \n",
    "    # null_values\n",
    "    df_nan = df.isna().sum()\n",
    "    \n",
    "    val_table = pd.concat([df_dtypes, df_nunique, df_nan], axis=1)\n",
    "    val_table.columns = ['dtype', 'nunique', 'nan']\n",
    "        \n",
    "    return val_table.reset_index()"
   ]
  },
  {
   "cell_type": "markdown",
   "id": "9a5538cf",
   "metadata": {},
   "source": [
    "**특이사항**\n",
    "\n",
    "- `ID` 컬럼은 unique 값으로 학습에 불필요하므로 제거합니다.\n",
    "- `사고일시` 컬럼이 object로 되어 있어 datetime으로 변환이 필요합니다.\n",
    "\n",
    "- train과 test 데이터셋 간의 컬럼 수가 서로 다릅니다.\n",
    "    - test 데이터의 컬럼만을 사용하여 train 데이터를 학습합니다.\n",
    "- `기상상태`, `시군구` 컬럼의 고유값 수(nunique)가 서로 다릅니다.\n",
    "    - 고유값이 서로 다른 경우 test 데이터의 예측 값 생성 시 에러가 발생할 수 있습니다. \n",
    "    - 두 컬럼의 고유값 수가 다르므로 제거합니다. \n",
    "    - 현재 노트는 베이스라인 모델을 위한 노트로, 이후 본 분석에서는 train 데이터의 나머지 컬럼들과 주어진 외부 데이터들을 이용하여 추가 분석을 진행할 예정입니다.\n",
    "    \n",
    "\n",
    "| 구분|train|test |\n",
    "|---|---|---|\n",
    "| 컬럼 수 |23개 | 8개 |\n",
    "| 기상상태 nunique | 6개 | 5개 |\n",
    "| 시군구 nunique | 199개 | 192개 |"
   ]
  },
  {
   "cell_type": "code",
   "execution_count": 4,
   "id": "6cf823b7",
   "metadata": {
    "ExecuteTime": {
     "end_time": "2023-11-16T03:56:00.222261Z",
     "start_time": "2023-11-16T03:56:00.056488Z"
    },
    "code_folding": [
     0
    ],
    "scrolled": false
   },
   "outputs": [
    {
     "data": {
      "text/html": [
       "<div>\n",
       "<style scoped>\n",
       "    .dataframe tbody tr th:only-of-type {\n",
       "        vertical-align: middle;\n",
       "    }\n",
       "\n",
       "    .dataframe tbody tr th {\n",
       "        vertical-align: top;\n",
       "    }\n",
       "\n",
       "    .dataframe thead th {\n",
       "        text-align: right;\n",
       "    }\n",
       "</style>\n",
       "<table border=\"1\" class=\"dataframe\">\n",
       "  <thead>\n",
       "    <tr style=\"text-align: right;\">\n",
       "      <th></th>\n",
       "      <th>dtype_train</th>\n",
       "      <th>nunique_train</th>\n",
       "      <th>nan_train</th>\n",
       "      <th>dtype_test</th>\n",
       "      <th>nunique_test</th>\n",
       "      <th>nan_test</th>\n",
       "    </tr>\n",
       "    <tr>\n",
       "      <th>index</th>\n",
       "      <th></th>\n",
       "      <th></th>\n",
       "      <th></th>\n",
       "      <th></th>\n",
       "      <th></th>\n",
       "      <th></th>\n",
       "    </tr>\n",
       "  </thead>\n",
       "  <tbody>\n",
       "    <tr>\n",
       "      <th>ID</th>\n",
       "      <td>object</td>\n",
       "      <td>39609</td>\n",
       "      <td>0</td>\n",
       "      <td>object</td>\n",
       "      <td>10963.0</td>\n",
       "      <td>0.0</td>\n",
       "    </tr>\n",
       "    <tr>\n",
       "      <th>사고일시</th>\n",
       "      <td>object</td>\n",
       "      <td>18057</td>\n",
       "      <td>0</td>\n",
       "      <td>object</td>\n",
       "      <td>5548.0</td>\n",
       "      <td>0.0</td>\n",
       "    </tr>\n",
       "    <tr>\n",
       "      <th>요일</th>\n",
       "      <td>object</td>\n",
       "      <td>7</td>\n",
       "      <td>0</td>\n",
       "      <td>object</td>\n",
       "      <td>7.0</td>\n",
       "      <td>0.0</td>\n",
       "    </tr>\n",
       "    <tr>\n",
       "      <th>기상상태</th>\n",
       "      <td>object</td>\n",
       "      <td>6</td>\n",
       "      <td>0</td>\n",
       "      <td>object</td>\n",
       "      <td>5.0</td>\n",
       "      <td>0.0</td>\n",
       "    </tr>\n",
       "    <tr>\n",
       "      <th>시군구</th>\n",
       "      <td>object</td>\n",
       "      <td>199</td>\n",
       "      <td>0</td>\n",
       "      <td>object</td>\n",
       "      <td>192.0</td>\n",
       "      <td>0.0</td>\n",
       "    </tr>\n",
       "    <tr>\n",
       "      <th>도로형태</th>\n",
       "      <td>object</td>\n",
       "      <td>11</td>\n",
       "      <td>0</td>\n",
       "      <td>object</td>\n",
       "      <td>11.0</td>\n",
       "      <td>0.0</td>\n",
       "    </tr>\n",
       "    <tr>\n",
       "      <th>노면상태</th>\n",
       "      <td>object</td>\n",
       "      <td>6</td>\n",
       "      <td>0</td>\n",
       "      <td>object</td>\n",
       "      <td>6.0</td>\n",
       "      <td>0.0</td>\n",
       "    </tr>\n",
       "    <tr>\n",
       "      <th>사고유형</th>\n",
       "      <td>object</td>\n",
       "      <td>3</td>\n",
       "      <td>0</td>\n",
       "      <td>object</td>\n",
       "      <td>3.0</td>\n",
       "      <td>0.0</td>\n",
       "    </tr>\n",
       "    <tr>\n",
       "      <th>사고유형 - 세부분류</th>\n",
       "      <td>object</td>\n",
       "      <td>14</td>\n",
       "      <td>0</td>\n",
       "      <td>NaN</td>\n",
       "      <td>NaN</td>\n",
       "      <td>NaN</td>\n",
       "    </tr>\n",
       "    <tr>\n",
       "      <th>법규위반</th>\n",
       "      <td>object</td>\n",
       "      <td>11</td>\n",
       "      <td>0</td>\n",
       "      <td>NaN</td>\n",
       "      <td>NaN</td>\n",
       "      <td>NaN</td>\n",
       "    </tr>\n",
       "    <tr>\n",
       "      <th>가해운전자 차종</th>\n",
       "      <td>object</td>\n",
       "      <td>12</td>\n",
       "      <td>0</td>\n",
       "      <td>NaN</td>\n",
       "      <td>NaN</td>\n",
       "      <td>NaN</td>\n",
       "    </tr>\n",
       "    <tr>\n",
       "      <th>가해운전자 성별</th>\n",
       "      <td>object</td>\n",
       "      <td>3</td>\n",
       "      <td>0</td>\n",
       "      <td>NaN</td>\n",
       "      <td>NaN</td>\n",
       "      <td>NaN</td>\n",
       "    </tr>\n",
       "    <tr>\n",
       "      <th>가해운전자 연령</th>\n",
       "      <td>object</td>\n",
       "      <td>89</td>\n",
       "      <td>0</td>\n",
       "      <td>NaN</td>\n",
       "      <td>NaN</td>\n",
       "      <td>NaN</td>\n",
       "    </tr>\n",
       "    <tr>\n",
       "      <th>가해운전자 상해정도</th>\n",
       "      <td>object</td>\n",
       "      <td>6</td>\n",
       "      <td>0</td>\n",
       "      <td>NaN</td>\n",
       "      <td>NaN</td>\n",
       "      <td>NaN</td>\n",
       "    </tr>\n",
       "    <tr>\n",
       "      <th>피해운전자 차종</th>\n",
       "      <td>object</td>\n",
       "      <td>13</td>\n",
       "      <td>991</td>\n",
       "      <td>NaN</td>\n",
       "      <td>NaN</td>\n",
       "      <td>NaN</td>\n",
       "    </tr>\n",
       "    <tr>\n",
       "      <th>피해운전자 성별</th>\n",
       "      <td>object</td>\n",
       "      <td>3</td>\n",
       "      <td>991</td>\n",
       "      <td>NaN</td>\n",
       "      <td>NaN</td>\n",
       "      <td>NaN</td>\n",
       "    </tr>\n",
       "    <tr>\n",
       "      <th>피해운전자 연령</th>\n",
       "      <td>object</td>\n",
       "      <td>97</td>\n",
       "      <td>991</td>\n",
       "      <td>NaN</td>\n",
       "      <td>NaN</td>\n",
       "      <td>NaN</td>\n",
       "    </tr>\n",
       "    <tr>\n",
       "      <th>피해운전자 상해정도</th>\n",
       "      <td>object</td>\n",
       "      <td>6</td>\n",
       "      <td>991</td>\n",
       "      <td>NaN</td>\n",
       "      <td>NaN</td>\n",
       "      <td>NaN</td>\n",
       "    </tr>\n",
       "    <tr>\n",
       "      <th>사망자수</th>\n",
       "      <td>int64</td>\n",
       "      <td>3</td>\n",
       "      <td>0</td>\n",
       "      <td>NaN</td>\n",
       "      <td>NaN</td>\n",
       "      <td>NaN</td>\n",
       "    </tr>\n",
       "    <tr>\n",
       "      <th>중상자수</th>\n",
       "      <td>int64</td>\n",
       "      <td>7</td>\n",
       "      <td>0</td>\n",
       "      <td>NaN</td>\n",
       "      <td>NaN</td>\n",
       "      <td>NaN</td>\n",
       "    </tr>\n",
       "    <tr>\n",
       "      <th>경상자수</th>\n",
       "      <td>int64</td>\n",
       "      <td>18</td>\n",
       "      <td>0</td>\n",
       "      <td>NaN</td>\n",
       "      <td>NaN</td>\n",
       "      <td>NaN</td>\n",
       "    </tr>\n",
       "    <tr>\n",
       "      <th>부상자수</th>\n",
       "      <td>int64</td>\n",
       "      <td>9</td>\n",
       "      <td>0</td>\n",
       "      <td>NaN</td>\n",
       "      <td>NaN</td>\n",
       "      <td>NaN</td>\n",
       "    </tr>\n",
       "    <tr>\n",
       "      <th>ECLO</th>\n",
       "      <td>int64</td>\n",
       "      <td>46</td>\n",
       "      <td>0</td>\n",
       "      <td>NaN</td>\n",
       "      <td>NaN</td>\n",
       "      <td>NaN</td>\n",
       "    </tr>\n",
       "  </tbody>\n",
       "</table>\n",
       "</div>"
      ],
      "text/plain": [
       "            dtype_train  nunique_train  nan_train dtype_test  nunique_test  \\\n",
       "index                                                                        \n",
       "ID               object          39609          0     object       10963.0   \n",
       "사고일시             object          18057          0     object        5548.0   \n",
       "요일               object              7          0     object           7.0   \n",
       "기상상태             object              6          0     object           5.0   \n",
       "시군구              object            199          0     object         192.0   \n",
       "도로형태             object             11          0     object          11.0   \n",
       "노면상태             object              6          0     object           6.0   \n",
       "사고유형             object              3          0     object           3.0   \n",
       "사고유형 - 세부분류      object             14          0        NaN           NaN   \n",
       "법규위반             object             11          0        NaN           NaN   \n",
       "가해운전자 차종         object             12          0        NaN           NaN   \n",
       "가해운전자 성별         object              3          0        NaN           NaN   \n",
       "가해운전자 연령         object             89          0        NaN           NaN   \n",
       "가해운전자 상해정도       object              6          0        NaN           NaN   \n",
       "피해운전자 차종         object             13        991        NaN           NaN   \n",
       "피해운전자 성별         object              3        991        NaN           NaN   \n",
       "피해운전자 연령         object             97        991        NaN           NaN   \n",
       "피해운전자 상해정도       object              6        991        NaN           NaN   \n",
       "사망자수              int64              3          0        NaN           NaN   \n",
       "중상자수              int64              7          0        NaN           NaN   \n",
       "경상자수              int64             18          0        NaN           NaN   \n",
       "부상자수              int64              9          0        NaN           NaN   \n",
       "ECLO              int64             46          0        NaN           NaN   \n",
       "\n",
       "             nan_test  \n",
       "index                  \n",
       "ID                0.0  \n",
       "사고일시              0.0  \n",
       "요일                0.0  \n",
       "기상상태              0.0  \n",
       "시군구               0.0  \n",
       "도로형태              0.0  \n",
       "노면상태              0.0  \n",
       "사고유형              0.0  \n",
       "사고유형 - 세부분류       NaN  \n",
       "법규위반              NaN  \n",
       "가해운전자 차종          NaN  \n",
       "가해운전자 성별          NaN  \n",
       "가해운전자 연령          NaN  \n",
       "가해운전자 상해정도        NaN  \n",
       "피해운전자 차종          NaN  \n",
       "피해운전자 성별          NaN  \n",
       "피해운전자 연령          NaN  \n",
       "피해운전자 상해정도        NaN  \n",
       "사망자수              NaN  \n",
       "중상자수              NaN  \n",
       "경상자수              NaN  \n",
       "부상자수              NaN  \n",
       "ECLO              NaN  "
      ]
     },
     "execution_count": 4,
     "metadata": {},
     "output_type": "execute_result"
    }
   ],
   "source": [
    "# 기상상태, 시군구 데이터의 unique 값이 각각 7vs6, 199vs 192로 다르다\n",
    "train_info = making_val_table(train)\n",
    "test_info = making_val_table(test)\n",
    "\n",
    "pd.merge(left=train_info, right=test_info, on='index', \n",
    "         how='left', suffixes=('_train','_test')).set_index('index')"
   ]
  },
  {
   "cell_type": "markdown",
   "id": "8d0ca6e0",
   "metadata": {},
   "source": [
    "# Feature engineering"
   ]
  },
  {
   "cell_type": "markdown",
   "id": "2cee3d6a",
   "metadata": {},
   "source": [
    "**전처리 과정**\n",
    "- train, test 데이터셋 간의 컬럼 동기화\n",
    "- `사고일시` 컬럼 datetime으로 변환 후\n",
    "    - `월`, `일`, `시` 컬럼생성, 년도데이터는 제거 \n",
    "- `ID`,`사고일시`, `기상상태`, `시군구` 컬럼 제거\n",
    "- one-hot encoding 실시"
   ]
  },
  {
   "cell_type": "markdown",
   "id": "66ea4d80",
   "metadata": {},
   "source": [
    "- train, test 데이터셋의 컬럼 동기화 실시"
   ]
  },
  {
   "cell_type": "code",
   "execution_count": 5,
   "id": "cd653630",
   "metadata": {
    "ExecuteTime": {
     "end_time": "2023-11-16T03:56:00.237098Z",
     "start_time": "2023-11-16T03:56:00.224568Z"
    }
   },
   "outputs": [],
   "source": [
    "# target 변수 지정\n",
    "y_train = train['ECLO']\n",
    "\n",
    "# train, test 데이터간 컬럼 동기화 \n",
    "cols = test.columns\n",
    "X_train = train[cols]\n",
    "X_test = test"
   ]
  },
  {
   "cell_type": "markdown",
   "id": "a7e30889",
   "metadata": {},
   "source": [
    "- 기타 전처리함수 생성"
   ]
  },
  {
   "cell_type": "code",
   "execution_count": 6,
   "id": "f7bf8400",
   "metadata": {
    "ExecuteTime": {
     "end_time": "2023-11-16T03:56:00.252490Z",
     "start_time": "2023-11-16T03:56:00.237604Z"
    },
    "code_folding": [
     0
    ]
   },
   "outputs": [],
   "source": [
    "def feat_eng(df):\n",
    "    # datetime 변환\n",
    "    df['사고일시'] = pd.to_datetime(df['사고일시'])\n",
    "    \n",
    "    # 월,일,시 컬럼 생성\n",
    "    df['월'] = df['사고일시'].dt.month\n",
    "    df['일'] = df['사고일시'].dt.day\n",
    "    df['시'] = df['사고일시'].dt.hour\n",
    "    \n",
    "    # 불필요 컬럼 제거\n",
    "    subs = ['ID','사고일시','기상상태','시군구']\n",
    "    df = df.drop(subs, axis=1)\n",
    "    \n",
    "    # one-hot encoding 실시\n",
    "    df = pd.get_dummies(df)\n",
    "    \n",
    "    return df"
   ]
  },
  {
   "cell_type": "markdown",
   "id": "e2f1a86f",
   "metadata": {},
   "source": [
    "- train, test 전처리 실시"
   ]
  },
  {
   "cell_type": "code",
   "execution_count": 7,
   "id": "61d714ee",
   "metadata": {
    "ExecuteTime": {
     "end_time": "2023-11-16T03:56:00.739168Z",
     "start_time": "2023-11-16T03:56:00.253545Z"
    }
   },
   "outputs": [],
   "source": [
    "X_train_eng = feat_eng(X_train)\n",
    "X_test_eng = feat_eng(X_test)"
   ]
  },
  {
   "cell_type": "markdown",
   "id": "52c43d6a",
   "metadata": {},
   "source": [
    "- 전처리 후 shape 확인"
   ]
  },
  {
   "cell_type": "code",
   "execution_count": 8,
   "id": "6d323a88",
   "metadata": {
    "ExecuteTime": {
     "end_time": "2023-11-16T03:56:00.754714Z",
     "start_time": "2023-11-16T03:56:00.740774Z"
    },
    "scrolled": true
   },
   "outputs": [
    {
     "name": "stdout",
     "output_type": "stream",
     "text": [
      "X_train 데이터 shape : (39609, 30)\n",
      "y_train 데이터 shape : (39609,)\n",
      "\n",
      "X_test 데이터 shape : (10963, 30)\n"
     ]
    }
   ],
   "source": [
    "print(f'X_train 데이터 shape : {X_train_eng.shape}')\n",
    "print(f'y_train 데이터 shape : {y_train.shape}')\n",
    "print()\n",
    "print(f'X_test 데이터 shape : {X_test_eng.shape}')"
   ]
  },
  {
   "cell_type": "markdown",
   "id": "92eb58a3",
   "metadata": {},
   "source": [
    "# Modeling"
   ]
  },
  {
   "cell_type": "markdown",
   "id": "204e09d0",
   "metadata": {},
   "source": [
    "- 검증을 위한 데이터 분리"
   ]
  },
  {
   "cell_type": "code",
   "execution_count": 9,
   "id": "27c2841b",
   "metadata": {
    "ExecuteTime": {
     "end_time": "2023-11-16T03:56:01.302616Z",
     "start_time": "2023-11-16T03:56:00.756716Z"
    }
   },
   "outputs": [],
   "source": [
    "from sklearn.model_selection import train_test_split\n",
    "X_train, X_val, y_train, y_val = train_test_split(X_train_eng, y_train , test_size=0.2, random_state=42)"
   ]
  },
  {
   "cell_type": "markdown",
   "id": "d05a083c",
   "metadata": {},
   "source": [
    "- 랜덤포테스트 회귀모델 학습 진행"
   ]
  },
  {
   "cell_type": "code",
   "execution_count": 10,
   "id": "88ed40af",
   "metadata": {
    "ExecuteTime": {
     "end_time": "2023-11-16T03:56:13.500892Z",
     "start_time": "2023-11-16T03:56:01.304604Z"
    }
   },
   "outputs": [],
   "source": [
    "from sklearn.ensemble import RandomForestRegressor\n",
    "\n",
    "rf = RandomForestRegressor(random_state=42)\n",
    "rf.fit(X_train, y_train)\n",
    "\n",
    "y_train_pred = rf.predict(X_train)\n",
    "y_val_pred = rf.predict(X_val)"
   ]
  },
  {
   "cell_type": "markdown",
   "id": "0c283a8d",
   "metadata": {},
   "source": [
    "# Evaluation"
   ]
  },
  {
   "cell_type": "markdown",
   "id": "8de32f62",
   "metadata": {},
   "source": [
    "- 문제에서 제시한 RMSLE 지표를 이용한 평가 진행"
   ]
  },
  {
   "cell_type": "code",
   "execution_count": 11,
   "id": "0c402f26",
   "metadata": {
    "ExecuteTime": {
     "end_time": "2023-11-16T03:56:13.516085Z",
     "start_time": "2023-11-16T03:56:13.502470Z"
    }
   },
   "outputs": [],
   "source": [
    "from sklearn.metrics import mean_squared_log_error\n",
    "\n",
    "rmsle_train = np.sqrt(mean_squared_log_error(y_train, y_train_pred))\n",
    "rmsle_val = np.sqrt(mean_squared_log_error(y_val, y_val_pred))"
   ]
  },
  {
   "cell_type": "code",
   "execution_count": 12,
   "id": "8084d51f",
   "metadata": {
    "ExecuteTime": {
     "end_time": "2023-11-16T03:56:13.531720Z",
     "start_time": "2023-11-16T03:56:13.517186Z"
    },
    "scrolled": false
   },
   "outputs": [
    {
     "name": "stdout",
     "output_type": "stream",
     "text": [
      "train rmsle : 0.2560802972254713\n",
      "val rmsle : 0.5093072550464652\n"
     ]
    }
   ],
   "source": [
    "print('train rmsle :', rmsle_train)\n",
    "print('val rmsle :', rmsle_val)"
   ]
  },
  {
   "cell_type": "markdown",
   "id": "a71e955a",
   "metadata": {},
   "source": [
    "# Submission "
   ]
  },
  {
   "cell_type": "markdown",
   "id": "e14e817b",
   "metadata": {},
   "source": [
    "- test 데이터셋에 대한 예측값 생성"
   ]
  },
  {
   "cell_type": "code",
   "execution_count": 13,
   "id": "74f990d3",
   "metadata": {
    "ExecuteTime": {
     "end_time": "2023-11-16T03:56:13.792562Z",
     "start_time": "2023-11-16T03:56:13.532805Z"
    }
   },
   "outputs": [
    {
     "data": {
      "text/plain": [
       "array([4.16      , 2.95      , 7.19      , ..., 5.73      , 7.48      ,\n",
       "       6.29466667])"
      ]
     },
     "execution_count": 13,
     "metadata": {},
     "output_type": "execute_result"
    }
   ],
   "source": [
    "y_pred = rf.predict(X_test_eng)\n",
    "y_pred"
   ]
  },
  {
   "cell_type": "markdown",
   "id": "36ddf675",
   "metadata": {},
   "source": [
    "- 제출 파일형식으로 변환 후 제출 파일 생성"
   ]
  },
  {
   "cell_type": "code",
   "execution_count": 14,
   "id": "4ee9af12",
   "metadata": {
    "ExecuteTime": {
     "end_time": "2023-11-16T03:56:13.807769Z",
     "start_time": "2023-11-16T03:56:13.794599Z"
    },
    "scrolled": true
   },
   "outputs": [
    {
     "data": {
      "text/html": [
       "<div>\n",
       "<style scoped>\n",
       "    .dataframe tbody tr th:only-of-type {\n",
       "        vertical-align: middle;\n",
       "    }\n",
       "\n",
       "    .dataframe tbody tr th {\n",
       "        vertical-align: top;\n",
       "    }\n",
       "\n",
       "    .dataframe thead th {\n",
       "        text-align: right;\n",
       "    }\n",
       "</style>\n",
       "<table border=\"1\" class=\"dataframe\">\n",
       "  <thead>\n",
       "    <tr style=\"text-align: right;\">\n",
       "      <th></th>\n",
       "      <th>ID</th>\n",
       "      <th>ECLO</th>\n",
       "    </tr>\n",
       "  </thead>\n",
       "  <tbody>\n",
       "    <tr>\n",
       "      <th>0</th>\n",
       "      <td>ACCIDENT_39609</td>\n",
       "      <td>4.160000</td>\n",
       "    </tr>\n",
       "    <tr>\n",
       "      <th>1</th>\n",
       "      <td>ACCIDENT_39610</td>\n",
       "      <td>2.950000</td>\n",
       "    </tr>\n",
       "    <tr>\n",
       "      <th>2</th>\n",
       "      <td>ACCIDENT_39611</td>\n",
       "      <td>7.190000</td>\n",
       "    </tr>\n",
       "    <tr>\n",
       "      <th>3</th>\n",
       "      <td>ACCIDENT_39612</td>\n",
       "      <td>7.170000</td>\n",
       "    </tr>\n",
       "    <tr>\n",
       "      <th>4</th>\n",
       "      <td>ACCIDENT_39613</td>\n",
       "      <td>4.946667</td>\n",
       "    </tr>\n",
       "  </tbody>\n",
       "</table>\n",
       "</div>"
      ],
      "text/plain": [
       "               ID      ECLO\n",
       "0  ACCIDENT_39609  4.160000\n",
       "1  ACCIDENT_39610  2.950000\n",
       "2  ACCIDENT_39611  7.190000\n",
       "3  ACCIDENT_39612  7.170000\n",
       "4  ACCIDENT_39613  4.946667"
      ]
     },
     "execution_count": 14,
     "metadata": {},
     "output_type": "execute_result"
    }
   ],
   "source": [
    "ss['ECLO'] = y_pred\n",
    "ss.head()"
   ]
  },
  {
   "cell_type": "code",
   "execution_count": 15,
   "id": "712e0fad",
   "metadata": {
    "ExecuteTime": {
     "end_time": "2023-11-16T03:56:13.853692Z",
     "start_time": "2023-11-16T03:56:13.808772Z"
    }
   },
   "outputs": [],
   "source": [
    "OUTPUT_PATH = './output/'\n",
    "ss.to_csv(f'{OUTPUT_PATH}submission.csv', index=False)"
   ]
  }
 ],
 "metadata": {
  "hide_input": false,
  "kernelspec": {
   "display_name": "Python 3 (ipykernel)",
   "language": "python",
   "name": "python3"
  },
  "language_info": {
   "codemirror_mode": {
    "name": "ipython",
    "version": 3
   },
   "file_extension": ".py",
   "mimetype": "text/x-python",
   "name": "python",
   "nbconvert_exporter": "python",
   "pygments_lexer": "ipython3",
   "version": "3.9.7"
  },
  "toc": {
   "base_numbering": 1,
   "nav_menu": {},
   "number_sections": false,
   "sideBar": false,
   "skip_h1_title": true,
   "title_cell": "Table of Contents",
   "title_sidebar": "Contents",
   "toc_cell": false,
   "toc_position": {},
   "toc_section_display": true,
   "toc_window_display": false
  }
 },
 "nbformat": 4,
 "nbformat_minor": 5
}
